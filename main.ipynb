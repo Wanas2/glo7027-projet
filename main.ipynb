{
 "cells": [
  {
   "cell_type": "code",
   "execution_count": 189,
   "metadata": {},
   "outputs": [],
   "source": [
    "import pandas as pd\n",
    "from IPython.display import display"
   ]
  },
  {
   "cell_type": "code",
   "execution_count": 190,
   "metadata": {},
   "outputs": [],
   "source": [
    "pd.set_option(\"display.max_rows\", None)\n",
    "pd.set_option(\"display.max_columns\", None)"
   ]
  },
  {
   "cell_type": "code",
   "execution_count": 191,
   "metadata": {},
   "outputs": [],
   "source": [
    "data = pd.read_csv(\"modifiedData.csv\")"
   ]
  },
  {
   "cell_type": "code",
   "execution_count": 192,
   "metadata": {},
   "outputs": [],
   "source": [
    "# data_test = pd.read_csv(\"data_test.csv\")"
   ]
  },
  {
   "cell_type": "code",
   "execution_count": 193,
   "metadata": {},
   "outputs": [],
   "source": [
    "# columns = ['cps19_fed_gov_sat', 'cps19_spend_env', 'cps19_fed_id', 'cps19_province', 'cps19_education', 'cps19_age', 'cps19_imp_iss_party']"
   ]
  },
  {
   "cell_type": "code",
   "execution_count": 194,
   "metadata": {},
   "outputs": [],
   "source": [
    "X = data.copy().drop([\"votechoice\"], axis=1)\n",
    "y = data.copy().loc[:, \"votechoice\"]"
   ]
  },
  {
   "cell_type": "code",
   "execution_count": 195,
   "metadata": {},
   "outputs": [],
   "source": [
    "from sklearn.model_selection import train_test_split"
   ]
  },
  {
   "cell_type": "code",
   "execution_count": 196,
   "metadata": {},
   "outputs": [],
   "source": [
    "# X_test, y_test = data_test.copy()[columns], pd.read_csv(\"answers.csv\", sep=\";\")"
   ]
  },
  {
   "cell_type": "code",
   "execution_count": 197,
   "metadata": {},
   "outputs": [],
   "source": [
    "def linear_imputation(_df, cols):\n",
    "    df = _df.copy()\n",
    "    return df[cols].interpolate(method='linear')"
   ]
  },
  {
   "cell_type": "code",
   "execution_count": 198,
   "metadata": {},
   "outputs": [],
   "source": [
    "from sklearn.impute import KNNImputer\n",
    "from sklearn.preprocessing import MinMaxScaler\n",
    "\n",
    "def find_category_mappings(df, variable):\n",
    "    return {k: i for i, k in enumerate(df[variable].dropna().unique(), 0)}\n",
    "\n",
    "\n",
    "def integer_encode(df , variable, ordinal_mapping):\n",
    "    df[variable] = df[variable].map(ordinal_mapping)\n",
    "\n",
    "\n",
    "def knn_imputation(_df , cols, n_neighbors=1):\n",
    "    mm = MinMaxScaler()\n",
    "    _mapping = dict()\n",
    "    \n",
    "    df = _df.copy()\n",
    "    for variable in cols:\n",
    "        mappings = find_category_mappings(df, variable)\n",
    "        _mapping[variable] = mappings\n",
    "\n",
    "    for variable in cols:\n",
    "        integer_encode(df, variable, _mapping[variable])  \n",
    "\n",
    "    sca = mm.fit_transform(df)\n",
    "    knn_imputer = KNNImputer(n_neighbors=n_neighbors)\n",
    "    knn = knn_imputer.fit_transform(sca)\n",
    "    df.iloc[:,:] = mm.inverse_transform(knn)\n",
    "    for i in df.columns : \n",
    "        df[i] = round(df[i]).astype('int')\n",
    "\n",
    "    for i in cols:\n",
    "        inv_map = {v: k for k, v in _mapping[i].items()}\n",
    "        df[i] = df[i].map(inv_map)\n",
    "    return df\n"
   ]
  },
  {
   "cell_type": "code",
   "execution_count": 199,
   "metadata": {},
   "outputs": [],
   "source": [
    "# X_train = linear_imputation(X_train, columns)"
   ]
  },
  {
   "cell_type": "code",
   "execution_count": 200,
   "metadata": {},
   "outputs": [],
   "source": [
    "# X_test = linear_imputation(X_test, columns)"
   ]
  },
  {
   "cell_type": "code",
   "execution_count": 201,
   "metadata": {},
   "outputs": [],
   "source": [
    "# X = knn_imputation(X, columns)"
   ]
  },
  {
   "cell_type": "code",
   "execution_count": 202,
   "metadata": {},
   "outputs": [],
   "source": [
    "X_train, X_test, y_train, y_test = train_test_split(X, y, test_size=0.25, random_state=111)"
   ]
  },
  {
   "cell_type": "code",
   "execution_count": 203,
   "metadata": {},
   "outputs": [],
   "source": [
    "from sklearn.preprocessing import OneHotEncoder\n",
    "from sklearn.compose import make_column_transformer"
   ]
  },
  {
   "cell_type": "code",
   "execution_count": 204,
   "metadata": {},
   "outputs": [],
   "source": [
    "# column_trans = make_column_transformer(\n",
    "#                     (OneHotEncoder(), list(X_train.select_dtypes('object').columns)), \n",
    "#                     remainder='passthrough'\n",
    "#                )"
   ]
  },
  {
   "cell_type": "code",
   "execution_count": 205,
   "metadata": {},
   "outputs": [],
   "source": [
    "from sklearn.ensemble import RandomForestClassifier\n",
    "from sklearn.pipeline import make_pipeline"
   ]
  },
  {
   "cell_type": "code",
   "execution_count": 206,
   "metadata": {},
   "outputs": [],
   "source": [
    "RANDOM_STATE = 66"
   ]
  },
  {
   "cell_type": "code",
   "execution_count": 207,
   "metadata": {},
   "outputs": [],
   "source": [
    "# ensemble_clfs = [\n",
    "#     (\n",
    "#         \"RandomForestClassifier, max_features='sqrt'\",\n",
    "#         make_pipeline(\n",
    "#             column_trans,\n",
    "#             RandomForestClassifier(\n",
    "#                 warm_start=True,\n",
    "#                 oob_score=True,\n",
    "#                 max_features=\"sqrt\",\n",
    "#                 random_state=RANDOM_STATE,\n",
    "#             )\n",
    "#         ),\n",
    "#     ),\n",
    "#     (\n",
    "#         \"RandomForestClassifier, max_features='log2'\",\n",
    "#         make_pipeline(\n",
    "#             column_trans,\n",
    "#             RandomForestClassifier(\n",
    "#                 warm_start=True,\n",
    "#                 max_features=\"log2\",\n",
    "#                 oob_score=True,\n",
    "#                 random_state=RANDOM_STATE,\n",
    "#             )\n",
    "#         ),\n",
    "#     ),\n",
    "#     (\n",
    "#         \"RandomForestClassifier, max_features=None\",\n",
    "#         make_pipeline(\n",
    "#             column_trans,\n",
    "#             RandomForestClassifier(\n",
    "#                 warm_start=True,\n",
    "#                 max_features=None,\n",
    "#                 oob_score=True,\n",
    "#                 random_state=RANDOM_STATE,\n",
    "#             ) \n",
    "#         ),\n",
    "#     ),\n",
    "# ]"
   ]
  },
  {
   "cell_type": "code",
   "execution_count": 208,
   "metadata": {},
   "outputs": [],
   "source": [
    "from collections import OrderedDict\n",
    "import matplotlib.pyplot as plt"
   ]
  },
  {
   "cell_type": "code",
   "execution_count": 209,
   "metadata": {},
   "outputs": [],
   "source": [
    "# ensemble_clfs[0][1].get_params()"
   ]
  },
  {
   "cell_type": "code",
   "execution_count": 210,
   "metadata": {},
   "outputs": [],
   "source": [
    "import warnings\n",
    "warnings.filterwarnings(\"ignore\")"
   ]
  },
  {
   "cell_type": "code",
   "execution_count": 211,
   "metadata": {},
   "outputs": [],
   "source": [
    "# min_estimators = 15\n",
    "# max_estimators = 150\n",
    "\n",
    "# error_rate = OrderedDict((label, []) for label, _ in ensemble_clfs)\n",
    "\n",
    "# for label, clf in ensemble_clfs:\n",
    "#     for i in range(min_estimators, max_estimators + 1, 5):\n",
    "#         clf.set_params(randomforestclassifier__n_estimators=i)\n",
    "#         clf.fit(X_train, y_train)\n",
    "\n",
    "#         # Record the OOB error for each `n_estimators=i` setting.\n",
    "#         oob_error = 1 - clf[\"randomforestclassifier\"].oob_score_\n",
    "#         error_rate[label].append((i, oob_error))\n",
    "\n",
    "# # Generate the \"OOB error rate\" vs. \"n_estimators\" plot.\n",
    "# for label, clf_err in error_rate.items():\n",
    "#     xs, ys = zip(*clf_err)\n",
    "#     plt.plot(xs, ys, label=label)\n",
    "\n",
    "# plt.xlim(min_estimators, max_estimators)\n",
    "# plt.xlabel(\"n_estimators\")\n",
    "# plt.ylabel(\"OOB error rate\")\n",
    "# plt.legend(loc=\"upper right\")\n",
    "# plt.show()"
   ]
  },
  {
   "cell_type": "code",
   "execution_count": 212,
   "metadata": {},
   "outputs": [],
   "source": [
    "import numpy as np\n",
    "from sklearn.model_selection import cross_validate"
   ]
  },
  {
   "cell_type": "code",
   "execution_count": 213,
   "metadata": {},
   "outputs": [],
   "source": [
    "scoring = ['accuracy', 'precision_weighted', 'recall_weighted']"
   ]
  },
  {
   "cell_type": "code",
   "execution_count": 439,
   "metadata": {},
   "outputs": [
    {
     "data": {
      "text/plain": [
       "<matplotlib.legend.Legend at 0x1cdd0002b60>"
      ]
     },
     "execution_count": 439,
     "metadata": {},
     "output_type": "execute_result"
    },
    {
     "data": {
      "image/png": "[encoded data removed]",
      "text/plain": [
       "<Figure size 432x288 with 1 Axes>"
      ]
     },
     "metadata": {
      "needs_background": "light"
     },
     "output_type": "display_data"
    }
   ],
   "source": [
    "min_estimators, max_estimators = 5, 10\n",
    "profondeur_min, profondeur_max = 5, 15\n",
    "\n",
    "res = []\n",
    "\n",
    "for n in range(min_estimators, max_estimators + 1, 2):\n",
    "    result = dict()\n",
    "    columns = ['fit_time', 'score_time', 'test_accuracy', 'train_accuracy', 'test_precision_weighted', 'train_precision_weighted', 'test_recall_weighted', 'train_recall_weighted']\n",
    "    for col in columns:\n",
    "        result[col] = list()\n",
    "\n",
    "    for d in range(profondeur_min, profondeur_max + 1, 2):        \n",
    "        pipe = RandomForestClassifier(\n",
    "                        n_estimators=n, \n",
    "                        max_depth=d, \n",
    "                        max_features=\"sqrt\", \n",
    "                        random_state=RANDOM_STATE\n",
    "                    )\n",
    "\n",
    "        result_cv = cross_validate(pipe, X, y, cv=5, scoring=scoring, return_train_score=True)\n",
    "        for col in columns:\n",
    "            if col is 'fit_time' or col is 'score_time':\n",
    "                result[col].append(np.sum(result_cv[col]))\n",
    "            else:\n",
    "                result[col].append(100 * np.mean(result_cv[col]))\n",
    "    res.append(result)\n",
    "\n",
    "for index, result in enumerate(res):\n",
    "    # plt.figure(figsize=(30, 15))\n",
    "\n",
    "    # plt.subplot(121)\n",
    "    plt.plot(list(range(profondeur_min, profondeur_max + 1, 2)), result['test_accuracy'], label=\"Taux de succès n_estimators=%d\" % (5 + index * 2))\n",
    "    # plt.plot(list(range(profondeur_min, profondeur_max + 1, 2)), result['test_precision_weighted'], label=\"Précision\")\n",
    "    # plt.plot(list(range(profondeur_min, profondeur_max + 1, 2)), result['test_recall_weighted'], label=\"Rappel\")\n",
    "\n",
    "    # plt.subplot(122)\n",
    "    # plt.plot(list(range(profondeur_min, profondeur_max + 1, 2)), result['fit_time'], label=\"Temps d'entrainement\")\n",
    "    # plt.plot(list(range(profondeur_min, profondeur_max + 1, 2)), result['score_time'], label=\"Temps de test de performance\")\n",
    "\n",
    "    # plt.xlabel(\"Profondeur maximale\")\n",
    "    # plt.ylabel(\"Temps\")\n",
    "\n",
    "    # plt.title(\"Temps (en secondes) pour n_estimators = %d\" % n)\n",
    "    # plt.legend()\n",
    "    \n",
    "    # plt.savefig(\"img/RandomForest %d\" % d)\n",
    "    # plt.show()\n",
    "plt.xlabel(\"Profondeur maximale\")\n",
    "plt.ylabel(\"Performances\")\n",
    "\n",
    "plt.title(\"Performances (en pourcentages)\")\n",
    "plt.legend()"
   ]
  },
  {
   "cell_type": "code",
   "execution_count": 318,
   "metadata": {},
   "outputs": [],
   "source": [
    "# pipe = make_pipeline(\n",
    "#     column_trans, \n",
    "#     RandomForestClassifier(\n",
    "#         n_estimators=12, \n",
    "#         warm_start=True,\n",
    "#         max_features=\"log2\",\n",
    "#         random_state=RANDOM_STATE\n",
    "#     )\n",
    "# )"
   ]
  },
  {
   "cell_type": "code",
   "execution_count": 444,
   "metadata": {},
   "outputs": [],
   "source": [
    "pipe = RandomForestClassifier(\n",
    "        max_features=\"sqrt\",\n",
    "        n_estimators=7, \n",
    "        max_depth=11,\n",
    "        random_state=RANDOM_STATE\n",
    "    )"
   ]
  },
  {
   "cell_type": "code",
   "execution_count": 445,
   "metadata": {},
   "outputs": [
    {
     "data": {
      "text/plain": [
       "RandomForestClassifier(max_depth=11, max_features='sqrt', n_estimators=7,\n",
       "                       random_state=66)"
      ]
     },
     "execution_count": 445,
     "metadata": {},
     "output_type": "execute_result"
    }
   ],
   "source": [
    "pipe.fit(X_train, y_train)"
   ]
  },
  {
   "cell_type": "code",
   "execution_count": 429,
   "metadata": {},
   "outputs": [],
   "source": [
    "# y_pred = pd.concat([\n",
    "#     data[\"Unnamed: 0.1\"], \n",
    "#     pd.DataFrame(\n",
    "#         pipe.predict(X_test), \n",
    "#         columns=[\"Party\"], \n",
    "#         dtype=object\n",
    "#     )[\"Party\"]\n",
    "# ], axis=1).rename(columns = {'Unnamed: 0.1': 'Indiv'})\n",
    "# y_pred.head()"
   ]
  },
  {
   "cell_type": "code",
   "execution_count": 430,
   "metadata": {},
   "outputs": [],
   "source": [
    "y_pred = pd.DataFrame(pipe.predict(X_test), columns=[\"votechoice\"], dtype=object)"
   ]
  },
  {
   "cell_type": "code",
   "execution_count": 454,
   "metadata": {},
   "outputs": [],
   "source": [
    "y_pred.to_csv(\"train_test_predict.csv\", index=False)"
   ]
  },
  {
   "cell_type": "code",
   "execution_count": 431,
   "metadata": {},
   "outputs": [],
   "source": [
    "from sklearn.metrics import accuracy_score, precision_score, recall_score"
   ]
  },
  {
   "cell_type": "code",
   "execution_count": 432,
   "metadata": {},
   "outputs": [
    {
     "data": {
      "text/plain": [
       "0.7509411050394657"
      ]
     },
     "execution_count": 432,
     "metadata": {},
     "output_type": "execute_result"
    }
   ],
   "source": [
    "accuracy_score(y_pred[\"votechoice\"], y_test)"
   ]
  },
  {
   "cell_type": "code",
   "execution_count": 433,
   "metadata": {},
   "outputs": [],
   "source": [
    "avgs = [\"micro\", \"macro\", \"weighted\"]"
   ]
  },
  {
   "cell_type": "code",
   "execution_count": 434,
   "metadata": {},
   "outputs": [
    {
     "name": "stdout",
     "output_type": "stream",
     "text": [
      "micro 0.7509411050394657\n",
      "macro 0.5945350646634514\n",
      "weighted 0.7694857117256646\n"
     ]
    }
   ],
   "source": [
    "for avg in avgs:\n",
    "    print(avg, precision_score(y_pred[\"votechoice\"], y_test, average=avg))"
   ]
  },
  {
   "cell_type": "code",
   "execution_count": 435,
   "metadata": {},
   "outputs": [
    {
     "name": "stdout",
     "output_type": "stream",
     "text": [
      "micro 0.7509411050394657\n",
      "macro 0.6423808139102349\n",
      "weighted 0.7509411050394657\n"
     ]
    }
   ],
   "source": [
    "for avg in avgs:\n",
    "    print(avg, recall_score(y_pred[\"votechoice\"], y_test, average=avg))"
   ]
  },
  {
   "cell_type": "code",
   "execution_count": 442,
   "metadata": {},
   "outputs": [],
   "source": [
    "data1 = pd.read_csv(\"modifiedDataTest.csv\")"
   ]
  },
  {
   "cell_type": "code",
   "execution_count": 450,
   "metadata": {},
   "outputs": [
    {
     "data": {
      "text/plain": [
       "array([\"Don't know/ Prefer not to answer\", 'Conservative Party',\n",
       "       'Green Party', ..., 'Bloc Qu<e9>b<e9>cois', \"People's Party\",\n",
       "       'Conservative Party'], dtype=object)"
      ]
     },
     "execution_count": 450,
     "metadata": {},
     "output_type": "execute_result"
    }
   ],
   "source": []
  },
  {
   "cell_type": "code",
   "execution_count": 453,
   "metadata": {},
   "outputs": [],
   "source": [
    "pd.DataFrame(pipe.predict(data1), columns=[\"Party\"]).to_csv(\"rf_answers.csv\", index=False)"
   ]
  }
 ],
 "metadata": {
  "interpreter": {
   "hash": "6591d35b76ab97e93406cb5781dab5e47afa94dc95163fbd3bb09bb5745da70e"
  },
  "kernelspec": {
   "display_name": "Python 3.10.2 64-bit",
   "language": "python",
   "name": "python3"
  },
  "language_info": {
   "codemirror_mode": {
    "name": "ipython",
    "version": 3
   },
   "file_extension": ".py",
   "mimetype": "text/x-python",
   "name": "python",
   "nbconvert_exporter": "python",
   "pygments_lexer": "ipython3",
   "version": "3.10.2"
  },
  "orig_nbformat": 4
 },
 "nbformat": 4,
 "nbformat_minor": 2
}
